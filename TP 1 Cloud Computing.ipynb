{
 "cells": [
  {
   "cell_type": "markdown",
   "id": "3a84ad4e-7b61-4c2e-8034-cbc25d8a84e4",
   "metadata": {},
   "source": [
    "### Dependencies"
   ]
  },
  {
   "cell_type": "code",
   "execution_count": 150,
   "id": "46cf2f3c-0380-4f70-a894-4fa1e2cc759a",
   "metadata": {},
   "outputs": [],
   "source": [
    "import os\n",
    "import sys\n",
    "sys.path.insert(0, os.path.join(os.environ[\"SPARK_HOME\"], \"python\"))\n",
    "sys.path.append(os.path.join(os.environ[\"SPARK_HOME\"], \"python/lib/py4j-0.10.9.2-src.zip\"))"
   ]
  },
  {
   "cell_type": "code",
   "execution_count": 151,
   "id": "f47a3076-9c11-488d-bd2e-ee6b5b33f6c4",
   "metadata": {},
   "outputs": [],
   "source": [
    "import pyspark\n",
    "from pyspark.sql import SparkSession\n",
    "spark = SparkSession.builder \\\n",
    "    .appName(\"HelloLines\") \\\n",
    "    .config(\"spark.executor.instances\", \"2\") \\\n",
    "    .config(\"spark.executor.cores\", \"2\") \\\n",
    "    .config(\"spark.executor.memory\", \"1024M\") \\\n",
    "    .getOrCreate()\n",
    "sc = spark.sparkContext"
   ]
  },
  {
   "cell_type": "code",
   "execution_count": 156,
   "id": "996fe7bc-b052-4136-a6c3-8f118df3ffac",
   "metadata": {},
   "outputs": [],
   "source": [
    "from pyspark.sql.functions import min, avg, max\n",
    "import matplotlib.pyplot as plt\n",
    "from pyspark.sql import SparkSession\n",
    "from pyspark.sql import functions as F\n",
    "from pyspark.sql.functions import from_unixtime\n",
    "import numpy as np"
   ]
  },
  {
   "cell_type": "markdown",
   "id": "ae629536-7709-46b9-8546-bb793fd709a0",
   "metadata": {},
   "source": [
    "### Exploring the dataset"
   ]
  },
  {
   "cell_type": "code",
   "execution_count": 134,
   "id": "de9e101f-970e-4613-885d-7d24797ac815",
   "metadata": {},
   "outputs": [],
   "source": [
    "playlists_path = \"hdfs://localhost:9000/tp1/playlist.json\"\n",
    "tracks_path = \"hdfs://localhost:9000/tp1/tracks.json\""
   ]
  },
  {
   "cell_type": "code",
   "execution_count": 135,
   "id": "1ca37ae9-6f9c-4100-86d4-b21957a39660",
   "metadata": {},
   "outputs": [
    {
     "name": "stdout",
     "output_type": "stream",
     "text": [
      "Number of playlist lines: 161000\n"
     ]
    },
    {
     "name": "stderr",
     "output_type": "stream",
     "text": [
      "[Stage 283:===========================================>           (19 + 5) / 24]\r"
     ]
    },
    {
     "name": "stdout",
     "output_type": "stream",
     "text": [
      "Number of track lines: 10760544\n"
     ]
    },
    {
     "name": "stderr",
     "output_type": "stream",
     "text": [
      "                                                                                \r"
     ]
    }
   ],
   "source": [
    "rdd_playlists = sc.textFile(playlist_path)\n",
    "rdd_tracks = sc.textFile(tracks_path)\n",
    "\n",
    "print(f\"Number of playlist lines: {rdd_playlists.count()}\")\n",
    "print(f\"Number of track lines: {rdd_tracks.count()}\")"
   ]
  },
  {
   "cell_type": "code",
   "execution_count": 136,
   "id": "312ccab6-e6fd-4525-8608-857107790093",
   "metadata": {},
   "outputs": [
    {
     "name": "stdout",
     "output_type": "stream",
     "text": [
      "root\n",
      " |-- collaborative: string (nullable = true)\n",
      " |-- description: string (nullable = true)\n",
      " |-- duration_ms: long (nullable = true)\n",
      " |-- modified_at: long (nullable = true)\n",
      " |-- name: string (nullable = true)\n",
      " |-- num_albums: long (nullable = true)\n",
      " |-- num_artists: long (nullable = true)\n",
      " |-- num_edits: long (nullable = true)\n",
      " |-- num_followers: long (nullable = true)\n",
      " |-- num_tracks: long (nullable = true)\n",
      " |-- pid: long (nullable = true)\n",
      "\n",
      "+-------------+-----------+-----------+-----------+--------------------+----------+-----------+---------+-------------+----------+---+\n",
      "|collaborative|description|duration_ms|modified_at|                name|num_albums|num_artists|num_edits|num_followers|num_tracks|pid|\n",
      "+-------------+-----------+-----------+-----------+--------------------+----------+-----------+---------+-------------+----------+---+\n",
      "|        false|       NULL|   11532414| 1493424000|          Throwbacks|        47|         37|        6|            1|        52|  0|\n",
      "|        false|       NULL|   11656470| 1506556800|    Awesome Playlist|        23|         21|        5|            1|        39|  1|\n",
      "|        false|       NULL|   14039958| 1505692800|             korean |        51|         31|       18|            1|        64|  2|\n",
      "|        false|       NULL|   28926058| 1501027200|                 mat|       107|         86|        4|            1|       126|  3|\n",
      "|        false|       NULL|    4335282| 1401667200|                 90s|        16|         16|        7|            2|        17|  4|\n",
      "|        false|       NULL|   19156557| 1430956800|             Wedding|        71|         56|        3|            1|        80|  5|\n",
      "|        false|       NULL|    3408479| 1477094400|I Put A Spell On You|        15|         13|        2|            1|        16|  6|\n",
      "|        false|       NULL|   12674796| 1509321600|                2017|        52|         48|       38|            1|        53|  7|\n",
      "|        false|       NULL|    9948921| 1508976000|                 BOP|        37|         23|       21|            2|        46|  8|\n",
      "|        false|       NULL|    4297488| 1501804800|        old country |        20|         18|       10|            1|        21|  9|\n",
      "|        false|       NULL|   16403398| 1509321600|               abby |        60|         40|       36|            2|        72| 10|\n",
      "|        false|       NULL|   35655891| 1365379200|                VIBE|       117|         99|       16|            1|       134| 11|\n",
      "|        false|       NULL|    1981349| 1481587200|               relax|         9|          9|        3|            1|         9| 12|\n",
      "|        false|       NULL|    3039124| 1509062400|               sleep|        13|         12|        5|            1|        13| 13|\n",
      "|        false|       NULL|   25837498| 1382572800|               90's |        79|         61|        3|            1|       103| 14|\n",
      "|        false|       NULL|    1818256| 1432684800|           New Songs|         5|          3|        3|            1|         7| 15|\n",
      "|        false|       NULL|   24695913| 1491696000|          slow hands|        94|         81|       45|            1|       105| 16|\n",
      "|        false|       NULL|   17627215| 1465430400|      Mom's playlist|        69|         61|       11|            1|        79| 17|\n",
      "|        false|       NULL|   15917464| 1507334400|               SARAH|        66|         55|       18|            1|        68| 18|\n",
      "|        false|       NULL|   21627256| 1430956800|          melancholy|        82|         70|       54|            1|        85| 19|\n",
      "+-------------+-----------+-----------+-----------+--------------------+----------+-----------+---------+-------------+----------+---+\n",
      "only showing top 20 rows\n",
      "\n"
     ]
    }
   ],
   "source": [
    "df_playlists = spark.read.json(playlists_path)\n",
    "df_playlists.printSchema()\n",
    "df_playlists.show()"
   ]
  },
  {
   "cell_type": "code",
   "execution_count": 137,
   "id": "6d72f2d7-4b0b-46fe-b6b2-c7c89b3e96b0",
   "metadata": {},
   "outputs": [
    {
     "name": "stderr",
     "output_type": "stream",
     "text": [
      "[Stage 286:====================================================>  (23 + 1) / 24]\r"
     ]
    },
    {
     "name": "stdout",
     "output_type": "stream",
     "text": [
      "root\n",
      " |-- album_name: string (nullable = true)\n",
      " |-- album_uri: string (nullable = true)\n",
      " |-- artist_name: string (nullable = true)\n",
      " |-- artist_uri: string (nullable = true)\n",
      " |-- duration_ms: long (nullable = true)\n",
      " |-- pid: long (nullable = true)\n",
      " |-- pos: long (nullable = true)\n",
      " |-- track_name: string (nullable = true)\n",
      " |-- track_uri: string (nullable = true)\n",
      "\n",
      "+--------------------+--------------------+------------------+--------------------+-----------+---+---+--------------------+--------------------+\n",
      "|          album_name|           album_uri|       artist_name|          artist_uri|duration_ms|pid|pos|          track_name|           track_uri|\n",
      "+--------------------+--------------------+------------------+--------------------+-----------+---+---+--------------------+--------------------+\n",
      "|        The Cookbook|spotify:album:6vV...|     Missy Elliott|spotify:artist:2w...|     226863|  0|  0|Lose Control (fea...|spotify:track:0Ua...|\n",
      "|         In The Zone|spotify:album:0z7...|    Britney Spears|spotify:artist:26...|     198800|  0|  1|               Toxic|spotify:track:6I9...|\n",
      "|Dangerously In Lo...|spotify:album:25h...|           Beyoncé|spotify:artist:6v...|     235933|  0|  2|       Crazy In Love|spotify:track:0Wq...|\n",
      "|           Justified|spotify:album:6QP...| Justin Timberlake|spotify:artist:31...|     267266|  0|  3|      Rock Your Body|spotify:track:1AW...|\n",
      "|            Hot Shot|spotify:album:6Nm...|            Shaggy|spotify:artist:5E...|     227600|  0|  4|        It Wasn't Me|spotify:track:1lz...|\n",
      "|         Confessions|spotify:album:0vO...|             Usher|spotify:artist:23...|     250373|  0|  5|               Yeah!|spotify:track:0XU...|\n",
      "|         Confessions|spotify:album:1RM...|             Usher|spotify:artist:23...|     223440|  0|  6|              My Boo|spotify:track:68v...|\n",
      "|                 PCD|spotify:album:5x8...|The Pussycat Dolls|spotify:artist:6w...|     225560|  0|  7|             Buttons|spotify:track:3Bx...|\n",
      "|The Writing's On ...|spotify:album:283...|   Destiny's Child|spotify:artist:1Y...|     271333|  0|  8|         Say My Name|spotify:track:7H6...|\n",
      "|Speakerboxxx/The ...|spotify:album:1Us...|           OutKast|spotify:artist:1G...|     235213|  0|  9|Hey Ya! - Radio M...|spotify:track:2Pp...|\n",
      "|               Loose|spotify:album:2yb...|     Nelly Furtado|spotify:artist:2j...|     242293|  0| 10|         Promiscuous|spotify:track:2ga...|\n",
      "|Right Where You W...|spotify:album:602...|   Jesse McCartney|spotify:artist:2H...|     211693|  0| 11|Right Where You W...|spotify:track:4Y4...|\n",
      "|      Beautiful Soul|spotify:album:2gi...|   Jesse McCartney|spotify:artist:2H...|     214226|  0| 12|      Beautiful Soul|spotify:track:1Hw...|\n",
      "|Departure - Recha...|spotify:album:2tD...|   Jesse McCartney|spotify:artist:2H...|     216880|  0| 13|             Leavin'|spotify:track:20O...|\n",
      "|              Cassie|spotify:album:0j1...|            Cassie|spotify:artist:27...|     192213|  0| 14|              Me & U|spotify:track:7k6...|\n",
      "|                  21|spotify:album:4cV...|           Omarion|spotify:artist:0f...|     256426|  0| 15|             Ice Box|spotify:track:1Bv...|\n",
      "|              Let Go|spotify:album:7h6...|     Avril Lavigne|spotify:artist:0p...|     204000|  0| 16|           Sk8er Boi|spotify:track:4om...|\n",
      "|         Chris Brown|spotify:album:49g...|       Chris Brown|spotify:artist:7b...|     229866|  0| 17|             Run It!|spotify:track:7xY...|\n",
      "|               B'Day|spotify:album:3MJ...|           Beyoncé|spotify:artist:6v...|     210453|  0| 18|Check On It - fea...|spotify:track:6d8...|\n",
      "|The Writing's On ...|spotify:album:283...|   Destiny's Child|spotify:artist:1Y...|     230200|  0| 19|    Jumpin', Jumpin'|spotify:track:4pm...|\n",
      "+--------------------+--------------------+------------------+--------------------+-----------+---+---+--------------------+--------------------+\n",
      "only showing top 20 rows\n",
      "\n"
     ]
    },
    {
     "name": "stderr",
     "output_type": "stream",
     "text": [
      "                                                                                \r"
     ]
    }
   ],
   "source": [
    "df_tracks = spark.read.json(tracks_path)\n",
    "df_tracks.printSchema()\n",
    "df_tracks.show()"
   ]
  },
  {
   "cell_type": "markdown",
   "id": "fb6f7dcf-e0fe-498b-a751-66681bb48a7e",
   "metadata": {},
   "source": [
    "### Task 1 - Statistics about songs duration"
   ]
  },
  {
   "cell_type": "markdown",
   "id": "8ec07ce3-05ff-4117-9c4a-9bc853cd75e9",
   "metadata": {},
   "source": [
    "#### 1. Generate a table containing the minimum, average and maximum duration, in milliseconds, of the songs in the dataset."
   ]
  },
  {
   "cell_type": "code",
   "execution_count": 138,
   "id": "66ca7ac7-e9c7-49b3-bb43-a30a6fad3b9b",
   "metadata": {},
   "outputs": [
    {
     "name": "stderr",
     "output_type": "stream",
     "text": [
      "[Stage 288:====================================>                  (16 + 8) / 24]\r"
     ]
    },
    {
     "name": "stdout",
     "output_type": "stream",
     "text": [
      "+-----------------+---------------------+-----------------+\n",
      "|Min Duration (ms)|Average Duration (ms)|Max Duration (ms)|\n",
      "+-----------------+---------------------+-----------------+\n",
      "|                0|   234408.54976216817|         10435467|\n",
      "+-----------------+---------------------+-----------------+\n",
      "\n"
     ]
    },
    {
     "name": "stderr",
     "output_type": "stream",
     "text": [
      "                                                                                \r"
     ]
    }
   ],
   "source": [
    "duration_stats = df_tracks.agg(\n",
    "    min(\"duration_ms\").alias(\"Min Duration (ms)\"),\n",
    "    avg(\"duration_ms\").alias(\"Average Duration (ms)\"),\n",
    "    max(\"duration_ms\").alias(\"Max Duration (ms)\")\n",
    ")\n",
    "\n",
    "duration_stats.show()"
   ]
  },
  {
   "cell_type": "markdown",
   "id": "79aa2fd3-d56c-4e08-9841-fa4a0f211478",
   "metadata": {},
   "source": [
    "#### 2. Compute the first and third quartiles as well as the interquartile range (IRQ)"
   ]
  },
  {
   "cell_type": "code",
   "execution_count": 139,
   "id": "341dc451-59b3-4e29-b6f4-b8a0447f818b",
   "metadata": {},
   "outputs": [
    {
     "name": "stderr",
     "output_type": "stream",
     "text": [
      "[Stage 291:================================================>      (21 + 3) / 24]\r"
     ]
    },
    {
     "name": "stdout",
     "output_type": "stream",
     "text": [
      "First Quartile (Q1): 198026.0 ms\n",
      "Third Quartile (Q3): 258133.0 ms\n",
      "Interquartile Range (IRQ): 60107.0 ms\n"
     ]
    },
    {
     "name": "stderr",
     "output_type": "stream",
     "text": [
      "                                                                                \r"
     ]
    }
   ],
   "source": [
    "quartiles = df_tracks.approxQuantile(\"duration_ms\", [0.25, 0.75], 0.01)\n",
    "\n",
    "Q1 = quartiles[0]\n",
    "Q3 = quartiles[1]\n",
    "IRQ = Q3 - Q1\n",
    "\n",
    "print(f\"First Quartile (Q1): {Q1} ms\")\n",
    "print(f\"Third Quartile (Q3): {Q3} ms\")\n",
    "print(f\"Interquartile Range (IRQ): {IQR} ms\")"
   ]
  },
  {
   "cell_type": "markdown",
   "id": "31bdd88c-0374-461a-902f-37d9f0a395a0",
   "metadata": {},
   "source": [
    "#### 3. Compute the set of songs with durations that are not outliers, as defined by the IQRR methodology"
   ]
  },
  {
   "cell_type": "code",
   "execution_count": 140,
   "id": "da9552dc-59bd-4dc4-844a-a5430b5b6fcb",
   "metadata": {},
   "outputs": [
    {
     "name": "stderr",
     "output_type": "stream",
     "text": [
      "[Stage 299:====================================>                  (16 + 8) / 24]\r"
     ]
    },
    {
     "name": "stdout",
     "output_type": "stream",
     "text": [
      "The non outlier songs are 10189635 and represents 94.69442251246777% of the dataset.\n"
     ]
    },
    {
     "name": "stderr",
     "output_type": "stream",
     "text": [
      "                                                                                \r"
     ]
    }
   ],
   "source": [
    "inf_limit = Q1 - 1.5*IRQ \n",
    "sup_limit = Q3 + 1.5*IRQ\n",
    "\n",
    "non_outlier_songs = df_tracks.filter((df_tracks.duration_ms > inf_limit) & (df_tracks.duration_ms < sup_limit))\n",
    "print(f\"The non outlier songs are {non_outlier_songs.count()} and represents {(non_outlier_songs.count()/df_tracks.count())*100}% of the dataset.\")"
   ]
  },
  {
   "cell_type": "code",
   "execution_count": 141,
   "id": "785efb8b-f392-4d99-9aac-ef54bf28a50f",
   "metadata": {},
   "outputs": [
    {
     "name": "stdout",
     "output_type": "stream",
     "text": [
      "+--------------------+--------------------+------------------+--------------------+-----------+---+---+--------------------+--------------------+\n",
      "|          album_name|           album_uri|       artist_name|          artist_uri|duration_ms|pid|pos|          track_name|           track_uri|\n",
      "+--------------------+--------------------+------------------+--------------------+-----------+---+---+--------------------+--------------------+\n",
      "|        The Cookbook|spotify:album:6vV...|     Missy Elliott|spotify:artist:2w...|     226863|  0|  0|Lose Control (fea...|spotify:track:0Ua...|\n",
      "|         In The Zone|spotify:album:0z7...|    Britney Spears|spotify:artist:26...|     198800|  0|  1|               Toxic|spotify:track:6I9...|\n",
      "|Dangerously In Lo...|spotify:album:25h...|           Beyoncé|spotify:artist:6v...|     235933|  0|  2|       Crazy In Love|spotify:track:0Wq...|\n",
      "|           Justified|spotify:album:6QP...| Justin Timberlake|spotify:artist:31...|     267266|  0|  3|      Rock Your Body|spotify:track:1AW...|\n",
      "|            Hot Shot|spotify:album:6Nm...|            Shaggy|spotify:artist:5E...|     227600|  0|  4|        It Wasn't Me|spotify:track:1lz...|\n",
      "|         Confessions|spotify:album:0vO...|             Usher|spotify:artist:23...|     250373|  0|  5|               Yeah!|spotify:track:0XU...|\n",
      "|         Confessions|spotify:album:1RM...|             Usher|spotify:artist:23...|     223440|  0|  6|              My Boo|spotify:track:68v...|\n",
      "|                 PCD|spotify:album:5x8...|The Pussycat Dolls|spotify:artist:6w...|     225560|  0|  7|             Buttons|spotify:track:3Bx...|\n",
      "|The Writing's On ...|spotify:album:283...|   Destiny's Child|spotify:artist:1Y...|     271333|  0|  8|         Say My Name|spotify:track:7H6...|\n",
      "|Speakerboxxx/The ...|spotify:album:1Us...|           OutKast|spotify:artist:1G...|     235213|  0|  9|Hey Ya! - Radio M...|spotify:track:2Pp...|\n",
      "|               Loose|spotify:album:2yb...|     Nelly Furtado|spotify:artist:2j...|     242293|  0| 10|         Promiscuous|spotify:track:2ga...|\n",
      "|Right Where You W...|spotify:album:602...|   Jesse McCartney|spotify:artist:2H...|     211693|  0| 11|Right Where You W...|spotify:track:4Y4...|\n",
      "|      Beautiful Soul|spotify:album:2gi...|   Jesse McCartney|spotify:artist:2H...|     214226|  0| 12|      Beautiful Soul|spotify:track:1Hw...|\n",
      "|Departure - Recha...|spotify:album:2tD...|   Jesse McCartney|spotify:artist:2H...|     216880|  0| 13|             Leavin'|spotify:track:20O...|\n",
      "|              Cassie|spotify:album:0j1...|            Cassie|spotify:artist:27...|     192213|  0| 14|              Me & U|spotify:track:7k6...|\n",
      "|                  21|spotify:album:4cV...|           Omarion|spotify:artist:0f...|     256426|  0| 15|             Ice Box|spotify:track:1Bv...|\n",
      "|              Let Go|spotify:album:7h6...|     Avril Lavigne|spotify:artist:0p...|     204000|  0| 16|           Sk8er Boi|spotify:track:4om...|\n",
      "|         Chris Brown|spotify:album:49g...|       Chris Brown|spotify:artist:7b...|     229866|  0| 17|             Run It!|spotify:track:7xY...|\n",
      "|               B'Day|spotify:album:3MJ...|           Beyoncé|spotify:artist:6v...|     210453|  0| 18|Check On It - fea...|spotify:track:6d8...|\n",
      "|The Writing's On ...|spotify:album:283...|   Destiny's Child|spotify:artist:1Y...|     230200|  0| 19|    Jumpin', Jumpin'|spotify:track:4pm...|\n",
      "+--------------------+--------------------+------------------+--------------------+-----------+---+---+--------------------+--------------------+\n",
      "only showing top 20 rows\n",
      "\n"
     ]
    }
   ],
   "source": [
    "non_outlier_songs.show()"
   ]
  },
  {
   "cell_type": "markdown",
   "id": "a93385da-1f58-4657-956f-888fb3bbdf8f",
   "metadata": {},
   "source": [
    "#### 4. Using the IQRR methodology, how many songs would be considered outliers and removed from analysis? Generate a new table containing the minimum, average and maximum duration of the remaining songs."
   ]
  },
  {
   "cell_type": "code",
   "execution_count": 142,
   "id": "911e3338-4be1-4f5c-989f-34ff6d0c3c4e",
   "metadata": {},
   "outputs": [
    {
     "name": "stderr",
     "output_type": "stream",
     "text": [
      "[Stage 309:====================================================>  (23 + 1) / 24]\r"
     ]
    },
    {
     "name": "stdout",
     "output_type": "stream",
     "text": [
      "The outlier songs are 570909 and represents 5.305577487532228% of the dataset.\n"
     ]
    },
    {
     "name": "stderr",
     "output_type": "stream",
     "text": [
      "                                                                                \r"
     ]
    }
   ],
   "source": [
    "outlier_songs = df_tracks.filter((df_tracks.duration_ms <= inf_limit) | (df_tracks.duration_ms >= sup_limit))\n",
    "print(f\"The outlier songs are {outlier_songs.count()} and represents {(outlier_songs.count()/df_tracks.count())*100}% of the dataset.\")"
   ]
  },
  {
   "cell_type": "code",
   "execution_count": 143,
   "id": "473b46f4-b6eb-417b-8538-f76d1f9d3463",
   "metadata": {},
   "outputs": [
    {
     "name": "stderr",
     "output_type": "stream",
     "text": [
      "[Stage 312:================================================>      (21 + 3) / 24]\r"
     ]
    },
    {
     "name": "stdout",
     "output_type": "stream",
     "text": [
      "+-----------------+---------------------+-----------------+\n",
      "|Min Duration (ms)|Average Duration (ms)|Max Duration (ms)|\n",
      "+-----------------+---------------------+-----------------+\n",
      "|           107866|    226795.8593433425|           348293|\n",
      "+-----------------+---------------------+-----------------+\n",
      "\n"
     ]
    },
    {
     "name": "stderr",
     "output_type": "stream",
     "text": [
      "                                                                                \r"
     ]
    }
   ],
   "source": [
    "non_outliers_duration_stats = non_outlier_songs.agg(\n",
    "    min(\"duration_ms\").alias(\"Min Duration (ms)\"),\n",
    "    avg(\"duration_ms\").alias(\"Average Duration (ms)\"),\n",
    "    max(\"duration_ms\").alias(\"Max Duration (ms)\")\n",
    ")\n",
    "\n",
    "non_outliers_duration_stats.show()"
   ]
  },
  {
   "cell_type": "markdown",
   "id": "6c7cd4a7-84eb-4b51-a813-f0c2c40ef511",
   "metadata": {},
   "source": [
    "### Task 2 - Finding the most popular artists over time"
   ]
  },
  {
   "cell_type": "code",
   "execution_count": 161,
   "id": "e0c93ead-9f11-443d-b4b0-f54c85cd7393",
   "metadata": {},
   "outputs": [],
   "source": [
    "#find the 5 most popular artists\n",
    "five_most_popular_artists = df_tracks.groupBy(\"artist_name\").count()\n",
    "five_most_popular_artists = five_most_popular_artists.orderBy(F.col(\"count\").desc()).limit(5)\n",
    "five_most_popular_artists = five_most_popular_artists.select(\"artist_name\")\n",
    "\n",
    "\n",
    "#filter these artists\n",
    "five_most_popular_artists_only = five_most_popular_artists.alias(\"fmpa\").join(df_tracks.alias(\"dt\"), \n",
    "                                                                              F.col(\"fmpa.artist_name\") == F.col(\"dt.artist_name\"), \n",
    "                                                                              \"inner\")\n",
    "five_most_popular_artists_only = five_most_popular_artists_only.select(\"dt.*\")\n",
    "\n",
    "\n",
    "#join with playlists to get ''modifed_at'\n",
    "df_joined = five_most_popular_artists_only.join(df_playlists, five_most_popular_artists_only.pid == df_playlists.pid, \"inner\")\n",
    "df_result = df_joined.select(five_most_popular_artists_only[\"*\"], df_playlists[\"modified_at\"])\n",
    "\n",
    "#create de 'year' column\n",
    "df_result = df_result.withColumn(\"year\", F.year(from_unixtime(\"modified_at\")))\n",
    "\n",
    "#group and count per artists and date\n",
    "playlists_per_artists = df_result.groupBy(\"artist_name\", \"year\").count()\n",
    "\n",
    "#playlists_per_artists.show()"
   ]
  },
  {
   "cell_type": "code",
   "execution_count": 159,
   "id": "f91bd1cf-5d08-4763-b246-f9258ae32cce",
   "metadata": {},
   "outputs": [
    {
     "name": "stderr",
     "output_type": "stream",
     "text": [
      "                                                                                \r"
     ]
    },
    {
     "data": {
      "image/png": "[encoded data removed]",
      "text/plain": [
       "<Figure size 600x600 with 1 Axes>"
      ]
     },
     "metadata": {},
     "output_type": "display_data"
    },
    {
     "data": {
      "text/plain": [
       "<Figure size 640x480 with 0 Axes>"
      ]
     },
     "metadata": {},
     "output_type": "display_data"
    }
   ],
   "source": [
    "data = playlists_per_artists.collect()\n",
    "\n",
    "artist_data = {}\n",
    "for row in data:\n",
    "    artist_name = row['artist_name']\n",
    "    year = row['year']\n",
    "    count = row['count']\n",
    "    if artist_name not in artist_data:\n",
    "        artist_data[artist_name] = []\n",
    "    artist_data[artist_name].append((year, count))\n",
    "\n",
    "#sort the data\n",
    "for artist in artist_data:\n",
    "    artist_data[artist].sort()\n",
    "\n",
    "plt.figure(figsize=(6, 6))\n",
    "for artist, values in artist_data.items():\n",
    "    years, counts = zip(*values)\n",
    "    plt.plot(years, counts, marker=\"o\", label=artist)\n",
    "\n",
    "plt.xlabel(\"Year\")\n",
    "plt.ylabel(\"Playlists Count\")\n",
    "plt.title(\"Artists Popularity with Number of Playlists Over The Years\")\n",
    "plt.legend()\n",
    "plt.xticks(rotation=45)\n",
    "plt.tight_layout()\n",
    "plt.show()"
   ]
  },
  {
   "cell_type": "markdown",
   "id": "6b7b4b9c-8d3b-45eb-bd49-214192109350",
   "metadata": {},
   "source": [
    "### Task 3 - Playlists's behavior"
   ]
  },
  {
   "cell_type": "code",
   "execution_count": 146,
   "id": "7c0b4d96-542a-4f70-9631-73b5587404fc",
   "metadata": {},
   "outputs": [
    {
     "name": "stderr",
     "output_type": "stream",
     "text": [
      "24/10/29 20:13:14 WARN RowBasedKeyValueBatch: Calling spill() on RowBasedKeyValueBatch. Will not spill but return 0.\n",
      "24/10/29 20:13:14 WARN RowBasedKeyValueBatch: Calling spill() on RowBasedKeyValueBatch. Will not spill but return 0.\n",
      "24/10/29 20:13:14 WARN RowBasedKeyValueBatch: Calling spill() on RowBasedKeyValueBatch. Will not spill but return 0.\n",
      "24/10/29 20:13:14 WARN RowBasedKeyValueBatch: Calling spill() on RowBasedKeyValueBatch. Will not spill but return 0.\n",
      "24/10/29 20:13:14 WARN RowBasedKeyValueBatch: Calling spill() on RowBasedKeyValueBatch. Will not spill but return 0.\n",
      "24/10/29 20:13:14 WARN RowBasedKeyValueBatch: Calling spill() on RowBasedKeyValueBatch. Will not spill but return 0.\n",
      "24/10/29 20:13:14 WARN RowBasedKeyValueBatch: Calling spill() on RowBasedKeyValueBatch. Will not spill but return 0.\n",
      "24/10/29 20:13:14 WARN RowBasedKeyValueBatch: Calling spill() on RowBasedKeyValueBatch. Will not spill but return 0.\n",
      "24/10/29 20:13:15 WARN RowBasedKeyValueBatch: Calling spill() on RowBasedKeyValueBatch. Will not spill but return 0.\n",
      "24/10/29 20:13:15 WARN RowBasedKeyValueBatch: Calling spill() on RowBasedKeyValueBatch. Will not spill but return 0.\n",
      "24/10/29 20:13:15 WARN RowBasedKeyValueBatch: Calling spill() on RowBasedKeyValueBatch. Will not spill but return 0.\n",
      "24/10/29 20:13:15 WARN RowBasedKeyValueBatch: Calling spill() on RowBasedKeyValueBatch. Will not spill but return 0.\n",
      "24/10/29 20:13:15 WARN RowBasedKeyValueBatch: Calling spill() on RowBasedKeyValueBatch. Will not spill but return 0.\n",
      "24/10/29 20:13:15 WARN RowBasedKeyValueBatch: Calling spill() on RowBasedKeyValueBatch. Will not spill but return 0.\n",
      "24/10/29 20:13:15 WARN RowBasedKeyValueBatch: Calling spill() on RowBasedKeyValueBatch. Will not spill but return 0.\n",
      "24/10/29 20:13:15 WARN RowBasedKeyValueBatch: Calling spill() on RowBasedKeyValueBatch. Will not spill but return 0.\n",
      "                                                                                \r"
     ]
    },
    {
     "data": {
      "image/png": "[encoded data removed]",
      "text/plain": [
       "<Figure size 1000x600 with 1 Axes>"
      ]
     },
     "metadata": {},
     "output_type": "display_data"
    }
   ],
   "source": [
    "#calculate the number of appearances of each artist per playlist\n",
    "artist_counts = df_tracks.groupBy(\"pid\", \"artist_name\").count()\n",
    "\n",
    "#calculate the highest number of appearances per playlist\n",
    "most_frequent_artist = artist_counts.groupBy(\"pid\").agg(\n",
    "    F.max(\"count\").alias(\"most_frequent_artist_count\")\n",
    ")\n",
    "\n",
    "#calculate the number of musics per playlist\n",
    "total_songs_in_playlist = df_tracks.groupBy(\"pid\").count().alias(\"total_songs\")\n",
    "\n",
    "#calculate the prevalence of the most frequent artist per playlist\n",
    "artist_prevalence = most_frequent_artist.join(total_songs_in_playlist, on=\"pid\").select(\"pid\",\n",
    "                                                                (F.col(\"most_frequent_artist_count\") / F.col(\"count\")).alias(\"artist_prevalence\")\n",
    ")\n",
    "\n",
    "prevalence_values = [row[\"artist_prevalence\"] for row in artist_prevalence.collect()]\n",
    "\n",
    "#sorting the values\n",
    "prevalence_values = np.sort(prevalence_values)\n",
    "\n",
    "cdf = np.arange(1, len(prevalence_values) + 1) / len(prevalence_values)\n",
    "\n",
    "plt.figure(figsize=(10, 6))\n",
    "plt.plot(prevalence_values, cdf, marker=\".\", linestyle=\"none\", color=\"b\")\n",
    "plt.title(\"CDF of Artist Prevalence in Playlists\")\n",
    "plt.xlabel(\"Artist Prevalence (fraction of songs by most frequent artist)\")\n",
    "plt.ylabel(\"CDF\")\n",
    "plt.grid(True)\n",
    "plt.show()"
   ]
  }
 ],
 "metadata": {
  "kernelspec": {
   "display_name": "Python 3 (ipykernel)",
   "language": "python",
   "name": "python3"
  },
  "language_info": {
   "codemirror_mode": {
    "name": "ipython",
    "version": 3
   },
   "file_extension": ".py",
   "mimetype": "text/x-python",
   "name": "python",
   "nbconvert_exporter": "python",
   "pygments_lexer": "ipython3",
   "version": "3.11.2"
  }
 },
 "nbformat": 4,
 "nbformat_minor": 5
}
